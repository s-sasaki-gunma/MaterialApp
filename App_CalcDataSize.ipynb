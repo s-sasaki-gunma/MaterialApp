{
  "nbformat": 4,
  "nbformat_minor": 0,
  "metadata": {
    "colab": {
      "provenance": [],
      "authorship_tag": "ABX9TyNePKFcsSk3gl5l2Q1AxO9o",
      "include_colab_link": true
    },
    "kernelspec": {
      "name": "python3",
      "display_name": "Python 3"
    },
    "language_info": {
      "name": "python"
    }
  },
  "cells": [
    {
      "cell_type": "markdown",
      "metadata": {
        "id": "view-in-github",
        "colab_type": "text"
      },
      "source": [
        "<a href=\"https://colab.research.google.com/github/s-sasaki-gunma/MaterialApp/blob/main/App_CalcDataSize.ipynb\" target=\"_parent\"><img src=\"https://colab.research.google.com/assets/colab-badge.svg\" alt=\"Open In Colab\"/></a>"
      ]
    },
    {
      "cell_type": "markdown",
      "source": [
        "# [0] 使い方\n",
        "\n",
        "1. 演習問題の[▶️]ボタンをクリックすると問題を自動生成する\n",
        "2. 解答欄に数値を入力すると正誤判定\n",
        "3. 回答が間違っていた場合には、模範解答と解説を表示"
      ],
      "metadata": {
        "id": "b4p2rUH101kn"
      }
    },
    {
      "cell_type": "markdown",
      "source": [
        "# [1] $n$ bit のビットパターンの組合せ\n",
        "$$\n",
        "\\begin{eqnarray*}\n",
        "n \\text{ bit} &=& 2^n \\text{ 通り}\\\\\n",
        "\\end{eqnarray*}\n",
        "$$"
      ],
      "metadata": {
        "id": "aQrxVsjVyN9b"
      }
    },
    {
      "cell_type": "code",
      "source": [
        "# @title 演習問題①\n",
        "import random\n",
        "y = random.randint(0,10)\n",
        "print(\"問：\",y,\"bitのビットパターンは何通りの組み合わせか答えよ\")\n",
        "x = input(\"解答欄：\")\n",
        "if x == str(2**y):\n",
        "    print(\"正解！\")\n",
        "else:\n",
        "    print(\"不正解！\\n\")\n",
        "    print(\"模範解答：\",2**y,\"（式：2 の\",y,\"乗）\")"
      ],
      "metadata": {
        "id": "282UpXEipRTV",
        "cellView": "form"
      },
      "execution_count": null,
      "outputs": []
    },
    {
      "cell_type": "markdown",
      "source": [
        "# [2] bit と Byte\n",
        "$$\n",
        "\\begin{eqnarray*}\n",
        "1 \\text{ Byte} &=& 8 \\text{ bit}\\\\\n",
        "n \\text{ Byte} &=& 8n \\text{ bit}\n",
        "\\end{eqnarray*}\n",
        "$$"
      ],
      "metadata": {
        "id": "RbitWjNspG2m"
      }
    },
    {
      "cell_type": "code",
      "source": [
        "# @title 演習問題②\n",
        "import random\n",
        "y = random.randint(0,100)\n",
        "print(\"問：\",y,\"Byte は 何bit であるか答えよ\")\n",
        "x = input(\"解答欄：\")\n",
        "if x == str(8*y):\n",
        "    print(\"正解！\")\n",
        "else:\n",
        "    print(\"不正解！\\n\")\n",
        "    print(\"模範解答：\",8*y,\"（式：8 ×\",y,\"）\")"
      ],
      "metadata": {
        "id": "jojWYXuTxj61",
        "cellView": "form"
      },
      "execution_count": null,
      "outputs": []
    },
    {
      "cell_type": "markdown",
      "source": [
        "# [3] 10進数から2進数への変換"
      ],
      "metadata": {
        "id": "KRReev5b4ivy"
      }
    },
    {
      "cell_type": "code",
      "source": [
        "# @title 演習問題③\n",
        "import random\n",
        "y = random.randint(0,2048)\n",
        "print(\"問：\",y,\"を2進数に変換せよ\")\n",
        "x = input(\"解答欄：\")\n",
        "ans = bin(int(y))[2:]\n",
        "if x == str(ans):\n",
        "    print(\"正解！\")\n",
        "else:\n",
        "    print(\"不正解！\\n\\n模範解答：\",ans)\n",
        "    while y>0:\n",
        "        print(y,\"÷ 2 = \",y//2,\"あまり\",y%2)\n",
        "        y=y//2\n",
        "    print(\"あまり部分を下から上に読むと、\",ans)"
      ],
      "metadata": {
        "id": "WDrAXSsh4xtR",
        "cellView": "form"
      },
      "execution_count": null,
      "outputs": []
    },
    {
      "cell_type": "markdown",
      "source": [
        "# [4] 2進数から10進数への変換"
      ],
      "metadata": {
        "id": "EaFe7fmp8UeH"
      }
    },
    {
      "cell_type": "code",
      "source": [
        "# @title 演習問題④\n",
        "import random\n",
        "from IPython.display import display, Markdown\n",
        "ans = random.randint(0,2048)\n",
        "y = int(bin(int(ans))[2:])\n",
        "print(\"問：\",y,\"を10進数に変換せよ\")\n",
        "x = input(\"解答欄：\")\n",
        "if x == str(ans):\n",
        "    print(\"正解！\")\n",
        "else:\n",
        "    print(\"不正解！\\n\")\n",
        "    print(\"模範解答：\",ans)\n",
        "    _y = y\n",
        "    i = 0\n",
        "    tmp1 = []\n",
        "    while y > 0 :\n",
        "        if y % 10 == 1 : tmp1.append(10**i)\n",
        "        y = y // 10\n",
        "        i += 1\n",
        "    tmp1.reverse()\n",
        "    tmp2 = []\n",
        "    for t in tmp1: tmp2.append(len(str(t))-1)\n",
        "    tmp3 = []\n",
        "    for t in tmp2: tmp3.append(2**t)\n",
        "    for i in range(1,len(tmp1)): tmp1[0] = str(tmp1[0]) + \"+\" + str(tmp1[i])\n",
        "    tmp2[0] = \"2^{\" + str(tmp2[0])+\"}\"\n",
        "    for i in range(1,len(tmp2)): tmp2[0] = str(tmp2[0]) + \"+2^{\" + str(tmp2[i])+\"}\"\n",
        "    for i in range(1,len(tmp3)): tmp3[0] = str(tmp3[0]) + \"+\" + str(tmp3[i])\n",
        "    res = rf\"\"\"\n",
        "    \\begin{{aligned}}\n",
        "    {_y} &= {tmp1[0]} \\\\\n",
        "    &= {tmp2[0]} \\\\\n",
        "    &= {tmp3[0]} \\\\\n",
        "    &= {ans}\n",
        "    \\end{{aligned}}\n",
        "    \"\"\"\n",
        "    display(Markdown(res))\n"
      ],
      "metadata": {
        "id": "gWGTM56DFYfa",
        "cellView": "form"
      },
      "execution_count": null,
      "outputs": []
    },
    {
      "cell_type": "markdown",
      "source": [
        "# [5] SI接頭語\n",
        "\\begin{array}{lccr}\n",
        "接頭語&読み方&SI&\\\\\n",
        "K&キロ&10^{3}&1,000\\\\\n",
        "M&メガ&10^{6}&1,000,000\\\\\n",
        "G&ギガ&10^{9}&1,000,000,000\\\\\n",
        "T&テラ&10^{12}&1,000,000,000,000\\\\\n",
        "P&ペタ&10^{15}&1,000,000,000,000,000\\\\\n",
        "E&エクサ&10^{18}&1,000,000,000,000,000,000\\\\\n",
        "Z&ゼタ&10^{21}&1,000,000,000,000,000,000,000\\\\\n",
        "Y&ヨタ&10^{24}&1,000,000,000,000,000,000,000,000\\\\\n",
        "\\end{array}\n",
        "\n"
      ],
      "metadata": {
        "id": "u8RcE12qbn7M"
      }
    },
    {
      "cell_type": "code",
      "source": [
        "# @title 演習問題⑤\n",
        "import random\n",
        "from IPython.display import display, Markdown\n",
        "y = random.randint(0,1250)*8\n",
        "SI = [\"\",\"K\",\"M\",\"G\",\"T\",\"P\",\"E\"]\n",
        "BI = [\"bit\",\"B\"]\n",
        "a1 = SI.pop(random.randint(0,len(SI)-1))\n",
        "a2 = BI[random.randint(0,1)]\n",
        "b1 = SI.pop(random.randint(0,len(SI)-1))\n",
        "b2 = BI[random.randint(0,1)]\n",
        "print(\"問：\",y,a1+a2,\"は何\",b1+b2,\"であるか求めよ\")\n",
        "SI = [\"\",\"K\",\"M\",\"G\",\"T\",\"P\",\"E\"]\n",
        "a3=10**(3*SI.index(a1))\n",
        "b3=10**(3*SI.index(b1))\n",
        "r0=8**(BI.index(a2)-BI.index(b2))\n",
        "if r0==1:\n",
        "    r1 = \"\"\n",
        "elif r0==8 :\n",
        "    r1 = \"\\\\times 8\"\n",
        "else:\n",
        "    r1 = \"\\\\times \\dfrac{1}{8}\"\n",
        "ans=float(y*a3/b3*r0)\n",
        "if ans%1==0:\n",
        "    ans=int(ans)\n",
        "x = input(\"解答欄：\")\n",
        "if x == str(ans):\n",
        "    print(\"正解！\")\n",
        "else:\n",
        "    print(\"不正解！\\n\")\n",
        "    print(\"模範解答：\",ans,\"[\"+b1+b2+\"]\")\n",
        "    res = rf\"\"\"\n",
        "    \\begin{{aligned}}\n",
        "    {y} [ {a1}{a2} ] &= {y} {r1} \\times \\dfrac{{{a3}}}{{{b3}}} [ {b1}{b2} ] \\\\\n",
        "    &= {ans} [ {b1}{b2} ] \\\\\n",
        "    \\end{{aligned}}\n",
        "    \"\"\"\n",
        "    display(Markdown(res))"
      ],
      "metadata": {
        "id": "Wifyo44efiXy",
        "cellView": "form"
      },
      "execution_count": null,
      "outputs": []
    },
    {
      "cell_type": "markdown",
      "source": [
        "# [6] 音声のデータ量\n",
        "$$\n",
        "データ量 [bit] = サンプリング周波数 [Hz] \\times 量子化ビット数 [bit] \\times 時間 [s] \\times チャンネル数\n",
        "$$"
      ],
      "metadata": {
        "id": "ypWgVkb-_aeA"
      }
    },
    {
      "cell_type": "code",
      "source": [
        "# @title 演習問題⑥\n",
        "import random\n",
        "from IPython.display import display, Markdown\n",
        "list_hz = [ 32000, 44100, 48000, 96000, 192000]\n",
        "hz = list_hz[random.randint(0,len(list_hz)-1)]\n",
        "list_bit = [8, 16, 24, 32]\n",
        "bit = list_bit[random.randint(0,len(list_bit)-1)]\n",
        "list_time = [\"秒\",\"分\",\"時間\"]\n",
        "time1 = random.randint(1,60)\n",
        "time2 = list_time[random.randint(0,2)]\n",
        "time3=60**list_time.index(time2)\n",
        "list_channel = [\"モノラル\",\"ステレオ\"]\n",
        "ch1 = list_channel[random.randint(0,1)]\n",
        "ch2 = list_channel.index(ch1)+1\n",
        "print(\"問：１秒間に\",hz,\"回の標本化を行い\",bit,\"bitで量子化した\",time1,time2,\"の\",ch1,\"音声のデータ量[bit]を求めよ。\")\n",
        "ans = hz*bit*time1*time3*ch2\n",
        "x = input(\"解答欄：\")\n",
        "if x == str(ans):\n",
        "    print(\"正解！\")\n",
        "else:\n",
        "    print(\"不正解！\\n\")\n",
        "    print(\"模範解答：\",ans,\"[bit]\")\n",
        "    res = rf\"\"\"\n",
        "    \\begin{{aligned}}\n",
        "    {time1} [ {time2} ] &= {time1*time3} [秒] \\\\\n",
        "    {ch1} 音声 &= {ch2} チャンネル \\\\\n",
        "    故に\\\\\n",
        "    データ量 [bit] &= {hz} [Hz] \\times {bit} [bit] \\times {time1*time3} [秒] \\times {ch2} チャンネル\n",
        "    &= {ans} [bit]\n",
        "    \\end{{aligned}}\n",
        "    \"\"\"\n",
        "    display(Markdown(res))"
      ],
      "metadata": {
        "id": "5yIqzDo50Uh8",
        "cellView": "form"
      },
      "execution_count": null,
      "outputs": []
    },
    {
      "cell_type": "markdown",
      "source": [
        "# [7] 画像のデータ量\n",
        "$$\n",
        "\\begin{aligned}\n",
        "データ量[bit] &= 階調[bit] \\times 総画素数 \\\\\n",
        "&= 階調[bit] \\times 横方向の画素数 \\times 縦方向の画素数 \\\\\n",
        "\\end{aligned}\n",
        "$$\n",
        "\n",
        "## 解像度の一覧\n",
        "\\begin{array}{lcc}\n",
        "名称 & 横 & 縦\\\\\n",
        "SVGA &  800 &  600\\\\\n",
        "XGA  & 1024 &  764\\\\\n",
        "SXGA & 1280 & 1024\\\\\n",
        "HD   & 1280 &  720\\\\\n",
        "FHD  & 1920 & 1080\\\\\n",
        "4K   & 3840 & 2160\\\\\n",
        "8K   & 7680 & 4320\\\\\n",
        "\\end{array}"
      ],
      "metadata": {
        "id": "PQ96jmswhHdJ"
      }
    },
    {
      "cell_type": "code",
      "source": [
        "# @title 演習問題⑦\n",
        "import random\n",
        "from IPython.display import display, Markdown\n",
        "dict_resolution = {\"SVGA\":[800,600],\"XGA\":[1024,764],\"SXGA\":[1280,1024],\"HD\":[1280,720],\"FHD\":[1920,1080],\"4K\":[3840,2160],\"8K\":[7680,4320]}\n",
        "resolution = list(dict_resolution.items())\n",
        "resolution = resolution[random.randint(0,len(resolution)-1)]\n",
        "dict_bit = {\"モノクロ\":1,\"グレースケール\":8,\"2階調\":3,\"4階調\":6,\"フルカラー\":24}\n",
        "bit = list(dict_bit.items())\n",
        "bit = bit[random.randint(0,len(bit)-1)]\n",
        "print(\"問：\", resolution[0], \"解像度の\", bit[0], \"画像のデータ量は 何 [Byte] であるか求めよ\")\n",
        "ans = bit[1] * resolution[1][0] * resolution[1][1] / 8\n",
        "if ans%1==0:\n",
        "    ans=int(ans)\n",
        "x = input(\"解答欄：\")\n",
        "if x == str(ans):\n",
        "    print(\"正解！\")\n",
        "else:\n",
        "    print(\"不正解！\\n\")\n",
        "    print(\"模範解答：\",ans,\"[Byte]\")\n",
        "    res = rf\"\"\"\n",
        "    \\begin{{aligned}}\n",
        "    {bit[1]} [bit] &= \\dfrac{{{bit[1]}}}{8} [Byte] \\\\\n",
        "    {resolution[0]} &= {resolution[1][0]} \\times {resolution[1][1]} [画素] \\\\\n",
        "    故に\\\\\n",
        "    解像度 &= \\dfrac{{ {bit[1]} \\times {resolution[1][0]} \\times {resolution[1][1]} }}{8} [Byte] \\\\\n",
        "    &= {ans} [Byte]\n",
        "    \\end{{aligned}}\n",
        "    \"\"\"\n",
        "    display(Markdown(res))"
      ],
      "metadata": {
        "id": "i24NaW4ciLnu",
        "cellView": "form"
      },
      "execution_count": null,
      "outputs": []
    },
    {
      "cell_type": "markdown",
      "source": [
        "# [8] 動画のデータ量\n",
        "$$\n",
        "\\begin{aligned}\n",
        "データ量[bit] &= フレームレート[fps] \\times 時間[秒] \\times 階調[bit] \\times 総画素数 \\\\\n",
        "&= フレームレート[fps] \\times 時間[秒] \\times 階調[bit] \\times 横方向の画素数 \\times 縦方向の画素数 \\\\\n",
        "\\end{aligned}\n",
        "$$\n",
        "\n",
        "\n",
        "## 一般的なフレームレート\n",
        "\\begin{array}{lc}\n",
        "媒体 & フレームレート\\\\\n",
        "フィルム映画 &  24 fps\\\\\n",
        "アナログ放送 &  30 fps\\\\\n",
        "デジタル放送 &  60 fps\\\\\n",
        "テレビゲーム & 120 fps\\\\\n",
        "\\end{array}"
      ],
      "metadata": {
        "id": "TW3fUzx8bxFm"
      }
    },
    {
      "cell_type": "code",
      "source": [
        "# @title 演習問題⑧\n",
        "import random\n",
        "from IPython.display import display, Markdown\n",
        "dict_resolution = {\"SVGA\":[800,600],\"XGA\":[1024,764],\"SXGA\":[1280,1024],\"HD\":[1280,720],\"FHD\":[1920,1080],\"4K\":[3840,2160],\"8K\":[7680,4320]}\n",
        "resolution = list(dict_resolution.items())\n",
        "resolution = resolution[random.randint(0,len(resolution)-1)]\n",
        "dict_bit = {\"モノクロ\":1,\"グレースケール\":8,\"2階調\":3,\"4階調\":6,\"フルカラー\":24}\n",
        "bit = list(dict_bit.items())\n",
        "bit = bit[random.randint(0,len(bit)-1)]\n",
        "list_time = [\"秒\",\"分\",\"時間\"]\n",
        "time1 = random.randint(1,60)\n",
        "time2 = list_time[random.randint(0,2)]\n",
        "time3=60**list_time.index(time2)\n",
        "list_fps = [24,30,60,120]\n",
        "fps = list_fps[random.randint(0,len(list_fps)-1)]\n",
        "print(\"問：\", resolution[0], \"解像度の\", bit[0], \"動画において、フレームレートが\",fps,\"[fps] であったとき、長さ\",time1,time2,\"のデータ量は 何 [Byte] であるか求めよ\")\n",
        "ans = fps * time1 * time3 * bit[1] * resolution[1][0] * resolution[1][1] / 8\n",
        "if ans%1==0:\n",
        "    ans=int(ans)\n",
        "x = input(\"解答欄：\")\n",
        "if x == str(ans):\n",
        "    print(\"正解！\")\n",
        "else:\n",
        "    print(\"不正解！\\n\")\n",
        "    print(\"模範解答：\",ans,\"[Byte]\")\n",
        "    res = rf\"\"\"\n",
        "    \\begin{{aligned}}\n",
        "    {time1} [ {time2} ] &= {time1*time3} [秒] \\\\\n",
        "    {bit[1]} [bit] &= \\dfrac{{{bit[1]}}}{8} [Byte] \\\\\n",
        "    {resolution[0]} &= {resolution[1][0]} \\times {resolution[1][1]} [画素] \\\\\n",
        "    故に\\\\\n",
        "    解像度 &= \\dfrac{{ {fps} \\times {time1*time3} \\times {bit[1]} \\times {resolution[1][0]} \\times {resolution[1][1]} }}{8} [Byte] \\\\\n",
        "    &= {ans} [Byte]\n",
        "    \\end{{aligned}}\n",
        "    \"\"\"\n",
        "    display(Markdown(res))"
      ],
      "metadata": {
        "id": "xb5UexY0cUho",
        "cellView": "form"
      },
      "execution_count": null,
      "outputs": []
    },
    {
      "cell_type": "markdown",
      "source": [
        "# [9] データの圧縮率\n",
        "\n",
        "$$\n",
        "圧縮率 = \\dfrac{圧縮後のデータ量}{もとのデータ量}\n",
        "$$"
      ],
      "metadata": {
        "id": "yjBOj8X8g9W8"
      }
    },
    {
      "cell_type": "code",
      "source": [
        "# @title 演習問題⑧\n",
        "import random\n",
        "from IPython.display import display, Markdown\n",
        "ans = random.randint(0,99)\n",
        "y = random.randint(1,1000)\n",
        "_x = y*ans/100\n",
        "if _x%1==0: _x=int(_x)\n",
        "print(\"問：\",y,\"[Byte] のデータを圧縮したら、\",_x,\"[Byte]になった。この場合の圧縮率[%]を求めよ\")\n",
        "x = input(\"解答欄：\")\n",
        "if x == str(ans):\n",
        "    print(\"正解！\")\n",
        "else:\n",
        "    print(\"不正解！\\n\")\n",
        "    print(\"模範解答：\",ans,\"[%]\")\n",
        "    res = rf\"\"\"\n",
        "    \\begin{{aligned}}\n",
        "    圧縮率 &= \\dfrac{{ {_x} }}{{ {y} }}\\\\\n",
        "    &= {ans/100}\\\\\n",
        "    &= {ans} [\\%]\n",
        "    \\end{{aligned}}\n",
        "    \"\"\"\n",
        "    display(Markdown(res))"
      ],
      "metadata": {
        "id": "b-0dg_k9htPM",
        "cellView": "form"
      },
      "execution_count": null,
      "outputs": []
    }
  ]
}